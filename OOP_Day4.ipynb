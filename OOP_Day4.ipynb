{
  "nbformat": 4,
  "nbformat_minor": 0,
  "metadata": {
    "colab": {
      "name": "OOP_Day4.ipynb",
      "provenance": []
    },
    "kernelspec": {
      "name": "python3",
      "display_name": "Python 3"
    }
  },
  "cells": [
    {
      "cell_type": "code",
      "metadata": {
        "colab": {
          "base_uri": "https://localhost:8080/"
        },
        "id": "2hX8rFmBnk1g",
        "outputId": "ea1bdc32-369e-45ba-b1c7-ab13ff19aad1"
      },
      "source": [
        "class Student:\r\n",
        "  def __init__(self,Name,Roll):\r\n",
        "    self.name = Name\r\n",
        "    self.roll = Roll\r\n",
        "  \r\n",
        "  def print_name(self):\r\n",
        "    print(self.name)\r\n",
        "\r\n",
        "  \r\n",
        "Student1 = Student(\"ABC\",1)\r\n",
        "Student1.print_name()\r\n",
        "\r\n",
        "Student1.name = \"XYZ\"\r\n",
        "Student1.print_name()"
      ],
      "execution_count": null,
      "outputs": [
        {
          "output_type": "stream",
          "text": [
            "ABC\n",
            "XYZ\n"
          ],
          "name": "stdout"
        }
      ]
    },
    {
      "cell_type": "code",
      "metadata": {
        "colab": {
          "base_uri": "https://localhost:8080/",
          "height": 199
        },
        "id": "tyq9-SGGu4tT",
        "outputId": "92a15e2a-a5f3-4d86-a787-d4be65e56ca2"
      },
      "source": [
        "class Student:\r\n",
        "  def __init__(self,Name,Roll):\r\n",
        "    self.name = Name\r\n",
        "    self.roll = Roll\r\n",
        "\r\n",
        "S1 = Student(\"Q\",1)\r\n",
        "del S1.name\r\n",
        "# print(S1.name)\r\n",
        "\r\n",
        "del S1\r\n",
        "# print(S1.roll)"
      ],
      "execution_count": null,
      "outputs": [
        {
          "output_type": "error",
          "ename": "NameError",
          "evalue": "ignored",
          "traceback": [
            "\u001b[0;31m---------------------------------------------------------------------------\u001b[0m",
            "\u001b[0;31mNameError\u001b[0m                                 Traceback (most recent call last)",
            "\u001b[0;32m<ipython-input-5-326ed174f3df>\u001b[0m in \u001b[0;36m<module>\u001b[0;34m()\u001b[0m\n\u001b[1;32m      9\u001b[0m \u001b[0;34m\u001b[0m\u001b[0m\n\u001b[1;32m     10\u001b[0m \u001b[0;32mdel\u001b[0m \u001b[0mS1\u001b[0m\u001b[0;34m\u001b[0m\u001b[0;34m\u001b[0m\u001b[0m\n\u001b[0;32m---> 11\u001b[0;31m \u001b[0mprint\u001b[0m\u001b[0;34m(\u001b[0m\u001b[0mS1\u001b[0m\u001b[0;34m.\u001b[0m\u001b[0mroll\u001b[0m\u001b[0;34m)\u001b[0m\u001b[0;34m\u001b[0m\u001b[0;34m\u001b[0m\u001b[0m\n\u001b[0m",
            "\u001b[0;31mNameError\u001b[0m: name 'S1' is not defined"
          ]
        }
      ]
    },
    {
      "cell_type": "code",
      "metadata": {
        "id": "KGSLmIUXv2iY"
      },
      "source": [
        "class A:\r\n",
        "  pass"
      ],
      "execution_count": null,
      "outputs": []
    },
    {
      "cell_type": "code",
      "metadata": {
        "colab": {
          "base_uri": "https://localhost:8080/"
        },
        "id": "X09pUYlKwZzC",
        "outputId": "13a6b836-c805-463b-9200-4992b1acaa4f"
      },
      "source": [
        "class College:\r\n",
        "  def __init__(self,NameOfDept):\r\n",
        "    self.nameofdept = NameOfDept\r\n",
        "\r\n",
        "class Department(College):\r\n",
        "  def __init__(self,NameOfDept,Strength):\r\n",
        "    College.__init__(self,NameOfDept) #1st way\r\n",
        "    # super().__init__(NameOfDept) #2nd way\r\n",
        "    self.strength = Strength\r\n",
        "\r\n",
        "CSE = Department(\"CSE\",100)\r\n",
        "print(CSE.nameofdept)\r\n",
        "print(CSE.strength)\r\n"
      ],
      "execution_count": null,
      "outputs": [
        {
          "output_type": "stream",
          "text": [
            "CSE\n",
            "100\n"
          ],
          "name": "stdout"
        }
      ]
    },
    {
      "cell_type": "code",
      "metadata": {
        "colab": {
          "base_uri": "https://localhost:8080/"
        },
        "id": "MDOKLlkizHsb",
        "outputId": "7012648b-8fbb-44f1-f83f-dbd1d0506a2b"
      },
      "source": [
        "class Student:\r\n",
        "  def __init__(self,Name,Roll):\r\n",
        "    self.__name = Name\r\n",
        "    self.roll = Roll\r\n",
        "  \r\n",
        "  def print_name(self):\r\n",
        "    print(self.__name)\r\n",
        "\r\n",
        "S1 = Student(\"A\",1)\r\n",
        "S1.print_name()"
      ],
      "execution_count": null,
      "outputs": [
        {
          "output_type": "stream",
          "text": [
            "A\n"
          ],
          "name": "stdout"
        }
      ]
    },
    {
      "cell_type": "code",
      "metadata": {
        "colab": {
          "base_uri": "https://localhost:8080/"
        },
        "id": "IYksu8cO0f0f",
        "outputId": "6eb5289c-6a72-4aa3-9308-847b2ff31370"
      },
      "source": [
        "from abc import ABC,abstractmethod \r\n",
        "\r\n",
        "class Animals:\r\n",
        "  @abstractmethod\r\n",
        "  def sound(self):\r\n",
        "    pass\r\n",
        "\r\n",
        "class Birds(Animals):\r\n",
        "  def sound(self):\r\n",
        "    print(\"Birds Chirp...\")\r\n",
        "\r\n",
        "Bird1 = Birds()\r\n",
        "Bird1.sound()\r\n",
        "\r\n",
        "\r\n",
        "\r\n"
      ],
      "execution_count": null,
      "outputs": [
        {
          "output_type": "stream",
          "text": [
            "Birds Chirp...\n"
          ],
          "name": "stdout"
        }
      ]
    },
    {
      "cell_type": "code",
      "metadata": {
        "id": "fqUs04og3OJv"
      },
      "source": [
        ""
      ],
      "execution_count": null,
      "outputs": []
    }
  ]
}